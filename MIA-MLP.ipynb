{
 "cells": [
  {
   "cell_type": "code",
   "execution_count": 1,
   "metadata": {},
   "outputs": [],
   "source": [
    "import numpy as np\n",
    "from torch.nn import CrossEntropyLoss\n",
    "import torch\n",
    "import matplotlib.pyplot as plt\n",
    "import scipy\n",
    "import tqdm"
   ]
  },
  {
   "cell_type": "code",
   "execution_count": 2,
   "metadata": {},
   "outputs": [],
   "source": [
    "# Load logits and train indices\n",
    "N_MODELS = 100\n",
    "N_CLASSES = 10\n",
    "teacher_logits_zip = np.load(f\"./saves/logits/logits_resnet_0.npz\")\n",
    "teacher_logits = np.concatenate([teacher_logits_zip['logits_arr_train'], teacher_logits_zip['logits_arr_test']])\n",
    "targets = np.concatenate([teacher_logits_zip['targets_arr_train'], teacher_logits_zip['targets_arr_test']])\n",
    "teacher_train_indices = np.load(\"./indices/train_idx_0.npy\")\n",
    "\n",
    "\n",
    "student_logits = np.empty((N_MODELS, 60000, 10), dtype=np.float32)\n",
    "student_train_indices = np.empty((N_MODELS, 30000))\n",
    "for idx in range(1, N_MODELS+1):\n",
    "    x = np.load(f\"./saves-MLP/logits/logits_mlp_{idx}.npz\")\n",
    "    x = np.concatenate([x['logits_arr_train'], x['logits_arr_test']])\n",
    "    student_logits[idx-1,:,:] = x\n",
    "    student_train_indices[idx-1,:] = np.load(f\"./indices/train_idx_{idx}.npy\")"
   ]
  },
  {
   "cell_type": "code",
   "execution_count": 3,
   "metadata": {},
   "outputs": [],
   "source": [
    "# Convert all logits to confidence scores\n",
    "loss = CrossEntropyLoss(reduction='none')\n",
    "teacher_cfs = np.empty((60000, 10))\n",
    "for class_nr in range(N_CLASSES):\n",
    "    teacher_cfs[:, class_nr] = loss(torch.Tensor(teacher_logits), torch.Tensor(60000*[class_nr]).type(torch.LongTensor)).numpy()\n",
    "teacher_cfs = np.exp(-1 * teacher_cfs)\n",
    "\n",
    "\n",
    "student_cfs = np.empty((N_MODELS, 60000, 10))\n",
    "for k in range(1, N_MODELS+1):\n",
    "    for class_nr in range(N_CLASSES):  \n",
    "        student_cfs[k-1, :, class_nr] = loss(torch.Tensor(student_logits[k-1,:]), torch.Tensor(60000*[class_nr]).type(torch.LongTensor)).numpy()\n",
    "student_cfs = np.exp(-1 * student_cfs)"
   ]
  },
  {
   "cell_type": "code",
   "execution_count": 4,
   "metadata": {},
   "outputs": [],
   "source": [
    "# Numerically stable way to apply logit scaling to confidence scores\n",
    "\n",
    "mask = np.ones((60000, N_CLASSES), dtype=bool)\n",
    "mask[range(60000), list(targets.astype(np.int64))] = False\n",
    "teacher_cfs_wrong = teacher_cfs[mask].reshape(60000, N_CLASSES-1)\n",
    "teacher_logits = np.log(np.choose(list(targets.astype(np.int64)), teacher_cfs.T)+1e-45) - np.log(teacher_cfs_wrong.sum(1)+1e-45)\n",
    "\n",
    "student_logits = np.empty((N_MODELS, 60000))\n",
    "for k in range(1, N_MODELS+1):\n",
    "    mask = np.ones((60000, N_CLASSES), dtype=bool)\n",
    "    mask[range(60000), list(targets.astype(np.int64))] = False\n",
    "    student_cfs_wrong = student_cfs[k-1, :, :][mask].reshape(60000, N_CLASSES-1)\n",
    "    student_logits[k-1, :] = np.log(np.choose(list(targets.astype(np.int64)), student_cfs[k-1, :, :].T)+1e-45) - np.log(student_cfs_wrong.sum(1)+1e-45)"
   ]
  },
  {
   "cell_type": "code",
   "execution_count": 5,
   "metadata": {},
   "outputs": [
    {
     "data": {
      "text/plain": [
       "(100, 60000)"
      ]
     },
     "execution_count": 5,
     "metadata": {},
     "output_type": "execute_result"
    }
   ],
   "source": [
    "student_logits.shape"
   ]
  },
  {
   "cell_type": "code",
   "execution_count": 6,
   "metadata": {},
   "outputs": [
    {
     "name": "stderr",
     "output_type": "stream",
     "text": [
      "  0%|          | 1/60000 [00:01<29:54:12,  1.79s/it]C:\\Users\\Admin\\AppData\\Local\\Temp\\ipykernel_6288\\3891820510.py:37: RuntimeWarning: invalid value encountered in scalar divide\n",
      "  score = scipy.stats.norm.pdf(teacher_logit, m_in, s_in) / scipy.stats.norm.pdf(teacher_logit, m_out, s_out)\n",
      "  0%|          | 136/60000 [00:04<16:38, 59.94it/s] C:\\Users\\Admin\\AppData\\Local\\Temp\\ipykernel_6288\\3891820510.py:37: RuntimeWarning: divide by zero encountered in scalar divide\n",
      "  score = scipy.stats.norm.pdf(teacher_logit, m_in, s_in) / scipy.stats.norm.pdf(teacher_logit, m_out, s_out)\n",
      "100%|██████████| 60000/60000 [16:51<00:00, 59.33it/s]"
     ]
    },
    {
     "name": "stdout",
     "output_type": "stream",
     "text": [
      "Skipped: 0/60000\n"
     ]
    },
    {
     "name": "stderr",
     "output_type": "stream",
     "text": [
      "\n"
     ]
    }
   ],
   "source": [
    "member_indicators = []\n",
    "member_scores = []\n",
    "skipped = 0\n",
    "\n",
    "for train_idx in tqdm.tqdm(range(0, 60000)):\n",
    "    idx_in_train_dataset = np.any(student_train_indices == train_idx, axis=1)\n",
    "\n",
    "    # get IN models logits\n",
    "    in_logits = student_logits[idx_in_train_dataset][:, train_idx]\n",
    "\n",
    "    # get OUT models logits\n",
    "    out_logits = student_logits[~idx_in_train_dataset][:, train_idx]\n",
    "\n",
    "    # get teacher model logit\n",
    "    teacher_logit = teacher_logits[train_idx]\n",
    "\n",
    "    if len(in_logits)/N_MODELS > 0.8 or len(out_logits)/N_MODELS > 0.7:\n",
    "        #print(f\"Unbalanced data for idx {train_idx}. Skipping ...\")\n",
    "        skipped += 1\n",
    "\n",
    "\n",
    "    # Calibrate normal dist for IN\n",
    "    s_in = np.std(in_logits)\n",
    "    m_in = np.mean(in_logits)\n",
    "\n",
    "    # Calibrate normal dist for OUT\n",
    "    s_out = np.std(out_logits)\n",
    "    m_out = np.mean(out_logits)\n",
    "\n",
    "    # Set is_member indicator for sample\n",
    "    if train_idx in teacher_train_indices:\n",
    "        member_indicators.append(1)\n",
    "    else:\n",
    "        member_indicators.append(0)\n",
    "\n",
    "    # Calculate is_member score for sample\n",
    "    score = scipy.stats.norm.pdf(teacher_logit, m_in, s_in) / scipy.stats.norm.pdf(teacher_logit, m_out, s_out)\n",
    "    member_scores.append(score)\n",
    "\n",
    "print(f\"Skipped: {skipped}/60000\")"
   ]
  },
  {
   "cell_type": "code",
   "execution_count": 10,
   "metadata": {},
   "outputs": [
    {
     "name": "stdout",
     "output_type": "stream",
     "text": [
      "60000\n"
     ]
    }
   ],
   "source": [
    "print(len(member_scores))"
   ]
  },
  {
   "cell_type": "code",
   "execution_count": 17,
   "metadata": {},
   "outputs": [
    {
     "ename": "ValueError",
     "evalue": "member_scores should be numeric",
     "output_type": "error",
     "traceback": [
      "\u001b[1;31m---------------------------------------------------------------------------\u001b[0m",
      "\u001b[1;31mValueError\u001b[0m                                Traceback (most recent call last)",
      "Cell \u001b[1;32mIn[17], line 10\u001b[0m\n\u001b[0;32m      8\u001b[0m member_scores \u001b[38;5;241m=\u001b[39m np\u001b[38;5;241m.\u001b[39marray(member_scores)  \u001b[38;5;66;03m# Convert to numpy array for better handling\u001b[39;00m\n\u001b[0;32m      9\u001b[0m \u001b[38;5;28;01mif\u001b[39;00m \u001b[38;5;129;01mnot\u001b[39;00m np\u001b[38;5;241m.\u001b[39missubdtype(member_scores\u001b[38;5;241m.\u001b[39mdtype, np\u001b[38;5;241m.\u001b[39mnumber):\n\u001b[1;32m---> 10\u001b[0m     \u001b[38;5;28;01mraise\u001b[39;00m \u001b[38;5;167;01mValueError\u001b[39;00m(\u001b[38;5;124m\"\u001b[39m\u001b[38;5;124mmember_scores should be numeric\u001b[39m\u001b[38;5;124m\"\u001b[39m)\n\u001b[0;32m     12\u001b[0m \u001b[38;5;28;01mif\u001b[39;00m np\u001b[38;5;241m.\u001b[39many(np\u001b[38;5;241m.\u001b[39misnan(member_scores)) \u001b[38;5;129;01mor\u001b[39;00m np\u001b[38;5;241m.\u001b[39many(np\u001b[38;5;241m.\u001b[39misinf(member_scores)):\n\u001b[0;32m     13\u001b[0m     \u001b[38;5;66;03m# Handle NaNs or infinite values by setting them to a very large number\u001b[39;00m\n\u001b[0;32m     14\u001b[0m     member_scores[np\u001b[38;5;241m.\u001b[39misnan(member_scores)] \u001b[38;5;241m=\u001b[39m \u001b[38;5;241m-\u001b[39mnp\u001b[38;5;241m.\u001b[39minf\n",
      "\u001b[1;31mValueError\u001b[0m: member_scores should be numeric"
     ]
    }
   ],
   "source": [
    "import numpy as np\n",
    "from sklearn import metrics\n",
    "import matplotlib.pyplot as plt\n",
    "\n",
    "# Assuming member_indicators and member_scores are your data arrays\n",
    "\n",
    "# Ensure member_scores is numeric\n",
    "try:\n",
    "    member_scores = np.asarray(member_scores, dtype=float)\n",
    "except (ValueError, TypeError):\n",
    "    raise ValueError(\"member_scores should be numeric\")\n",
    "\n",
    "# Check and handle NaN or infinite values in member_scores\n",
    "if np.any(np.isnan(member_scores)) or np.any(np.isinf(member_scores)):\n",
    "    # Handle NaNs or infinite values by setting them to a very large number\n",
    "    member_scores[np.isnan(member_scores)] = -np.inf\n",
    "    member_scores[np.isinf(member_scores)] = np.nanmax(np.abs(member_scores)) * np.sign(member_scores[np.isinf(member_scores)])\n",
    "\n",
    "# Compute ROC curve and AUC\n",
    "try:\n",
    "    fpr, tpr, thresholds = metrics.roc_curve(member_indicators, member_scores)\n",
    "    auc = metrics.roc_auc_score(member_indicators, member_scores)\n",
    "except ValueError as ve:\n",
    "    print(f\"Error computing ROC curve: {ve}\")\n",
    "    fpr, tpr, thresholds = [], [], []\n",
    "    auc = np.nan\n",
    "\n",
    "# Plot ROC curve\n",
    "plt.figure()\n",
    "plt.plot(fpr, tpr, color='darkorange', lw=2, label='ROC curve (area = {:.2f})'.format(auc))\n",
    "plt.plot([0, 1], [0, 1], color='navy', lw=2, linestyle='--')\n",
    "plt.xlim([0.0, 1.0])\n",
    "plt.ylim([0.0, 1.05])\n",
    "plt.xlabel('False Positive Rate')\n",
    "plt.ylabel('True Positive Rate')\n",
    "plt.title('Receiver Operating Characteristic')\n",
    "plt.legend(loc=\"lower right\")\n",
    "plt.show()\n"
   ]
  },
  {
   "cell_type": "code",
   "execution_count": 14,
   "metadata": {},
   "outputs": [
    {
     "ename": "ValueError",
     "evalue": "unknown format is not supported",
     "output_type": "error",
     "traceback": [
      "\u001b[1;31m---------------------------------------------------------------------------\u001b[0m",
      "\u001b[1;31mValueError\u001b[0m                                Traceback (most recent call last)",
      "Cell \u001b[1;32mIn[14], line 4\u001b[0m\n\u001b[0;32m      1\u001b[0m \u001b[38;5;28;01mfrom\u001b[39;00m \u001b[38;5;21;01msklearn\u001b[39;00m \u001b[38;5;28;01mimport\u001b[39;00m metrics\n\u001b[0;32m      2\u001b[0m plt\u001b[38;5;241m.\u001b[39mstyle\u001b[38;5;241m.\u001b[39muse(\u001b[38;5;124m\"\u001b[39m\u001b[38;5;124mggplot\u001b[39m\u001b[38;5;124m\"\u001b[39m)\n\u001b[1;32m----> 4\u001b[0m fpr, tpr, _ \u001b[38;5;241m=\u001b[39m \u001b[43mmetrics\u001b[49m\u001b[38;5;241;43m.\u001b[39;49m\u001b[43mroc_curve\u001b[49m\u001b[43m(\u001b[49m\u001b[43mmember_indicators\u001b[49m\u001b[43m,\u001b[49m\u001b[43m  \u001b[49m\u001b[43mmember_scores\u001b[49m\u001b[43m)\u001b[49m\n\u001b[0;32m      5\u001b[0m auc \u001b[38;5;241m=\u001b[39m metrics\u001b[38;5;241m.\u001b[39mroc_auc_score(member_indicators,  member_scores)\n\u001b[0;32m      6\u001b[0m plt\u001b[38;5;241m.\u001b[39mloglog(fpr, tpr)\n",
      "File \u001b[1;32mc:\\Users\\Admin\\AppData\\Local\\Programs\\Python\\Python310\\lib\\site-packages\\sklearn\\metrics\\_ranking.py:992\u001b[0m, in \u001b[0;36mroc_curve\u001b[1;34m(y_true, y_score, pos_label, sample_weight, drop_intermediate)\u001b[0m\n\u001b[0;32m    904\u001b[0m \u001b[38;5;28;01mdef\u001b[39;00m \u001b[38;5;21mroc_curve\u001b[39m(\n\u001b[0;32m    905\u001b[0m     y_true, y_score, \u001b[38;5;241m*\u001b[39m, pos_label\u001b[38;5;241m=\u001b[39m\u001b[38;5;28;01mNone\u001b[39;00m, sample_weight\u001b[38;5;241m=\u001b[39m\u001b[38;5;28;01mNone\u001b[39;00m, drop_intermediate\u001b[38;5;241m=\u001b[39m\u001b[38;5;28;01mTrue\u001b[39;00m\n\u001b[0;32m    906\u001b[0m ):\n\u001b[0;32m    907\u001b[0m \u001b[38;5;250m    \u001b[39m\u001b[38;5;124;03m\"\"\"Compute Receiver operating characteristic (ROC).\u001b[39;00m\n\u001b[0;32m    908\u001b[0m \n\u001b[0;32m    909\u001b[0m \u001b[38;5;124;03m    Note: this implementation is restricted to the binary classification task.\u001b[39;00m\n\u001b[1;32m   (...)\u001b[0m\n\u001b[0;32m    990\u001b[0m \u001b[38;5;124;03m    array([1.8 , 0.8 , 0.4 , 0.35, 0.1 ])\u001b[39;00m\n\u001b[0;32m    991\u001b[0m \u001b[38;5;124;03m    \"\"\"\u001b[39;00m\n\u001b[1;32m--> 992\u001b[0m     fps, tps, thresholds \u001b[38;5;241m=\u001b[39m \u001b[43m_binary_clf_curve\u001b[49m\u001b[43m(\u001b[49m\n\u001b[0;32m    993\u001b[0m \u001b[43m        \u001b[49m\u001b[43my_true\u001b[49m\u001b[43m,\u001b[49m\u001b[43m \u001b[49m\u001b[43my_score\u001b[49m\u001b[43m,\u001b[49m\u001b[43m \u001b[49m\u001b[43mpos_label\u001b[49m\u001b[38;5;241;43m=\u001b[39;49m\u001b[43mpos_label\u001b[49m\u001b[43m,\u001b[49m\u001b[43m \u001b[49m\u001b[43msample_weight\u001b[49m\u001b[38;5;241;43m=\u001b[39;49m\u001b[43msample_weight\u001b[49m\n\u001b[0;32m    994\u001b[0m \u001b[43m    \u001b[49m\u001b[43m)\u001b[49m\n\u001b[0;32m    996\u001b[0m     \u001b[38;5;66;03m# Attempt to drop thresholds corresponding to points in between and\u001b[39;00m\n\u001b[0;32m    997\u001b[0m     \u001b[38;5;66;03m# collinear with other points. These are always suboptimal and do not\u001b[39;00m\n\u001b[0;32m    998\u001b[0m     \u001b[38;5;66;03m# appear on a plotted ROC curve (and thus do not affect the AUC).\u001b[39;00m\n\u001b[1;32m   (...)\u001b[0m\n\u001b[0;32m   1003\u001b[0m     \u001b[38;5;66;03m# but does not drop more complicated cases like fps = [1, 3, 7],\u001b[39;00m\n\u001b[0;32m   1004\u001b[0m     \u001b[38;5;66;03m# tps = [1, 2, 4]; there is no harm in keeping too many thresholds.\u001b[39;00m\n\u001b[0;32m   1005\u001b[0m     \u001b[38;5;28;01mif\u001b[39;00m drop_intermediate \u001b[38;5;129;01mand\u001b[39;00m \u001b[38;5;28mlen\u001b[39m(fps) \u001b[38;5;241m>\u001b[39m \u001b[38;5;241m2\u001b[39m:\n",
      "File \u001b[1;32mc:\\Users\\Admin\\AppData\\Local\\Programs\\Python\\Python310\\lib\\site-packages\\sklearn\\metrics\\_ranking.py:749\u001b[0m, in \u001b[0;36m_binary_clf_curve\u001b[1;34m(y_true, y_score, pos_label, sample_weight)\u001b[0m\n\u001b[0;32m    747\u001b[0m y_type \u001b[38;5;241m=\u001b[39m type_of_target(y_true, input_name\u001b[38;5;241m=\u001b[39m\u001b[38;5;124m\"\u001b[39m\u001b[38;5;124my_true\u001b[39m\u001b[38;5;124m\"\u001b[39m)\n\u001b[0;32m    748\u001b[0m \u001b[38;5;28;01mif\u001b[39;00m \u001b[38;5;129;01mnot\u001b[39;00m (y_type \u001b[38;5;241m==\u001b[39m \u001b[38;5;124m\"\u001b[39m\u001b[38;5;124mbinary\u001b[39m\u001b[38;5;124m\"\u001b[39m \u001b[38;5;129;01mor\u001b[39;00m (y_type \u001b[38;5;241m==\u001b[39m \u001b[38;5;124m\"\u001b[39m\u001b[38;5;124mmulticlass\u001b[39m\u001b[38;5;124m\"\u001b[39m \u001b[38;5;129;01mand\u001b[39;00m pos_label \u001b[38;5;129;01mis\u001b[39;00m \u001b[38;5;129;01mnot\u001b[39;00m \u001b[38;5;28;01mNone\u001b[39;00m)):\n\u001b[1;32m--> 749\u001b[0m     \u001b[38;5;28;01mraise\u001b[39;00m \u001b[38;5;167;01mValueError\u001b[39;00m(\u001b[38;5;124m\"\u001b[39m\u001b[38;5;132;01m{0}\u001b[39;00m\u001b[38;5;124m format is not supported\u001b[39m\u001b[38;5;124m\"\u001b[39m\u001b[38;5;241m.\u001b[39mformat(y_type))\n\u001b[0;32m    751\u001b[0m check_consistent_length(y_true, y_score, sample_weight)\n\u001b[0;32m    752\u001b[0m y_true \u001b[38;5;241m=\u001b[39m column_or_1d(y_true)\n",
      "\u001b[1;31mValueError\u001b[0m: unknown format is not supported"
     ]
    }
   ],
   "source": [
    "from sklearn import metrics\n",
    "plt.style.use(\"ggplot\")\n",
    "\n",
    "fpr, tpr, _ = metrics.roc_curve(member_indicators,  member_scores)\n",
    "auc = metrics.roc_auc_score(member_indicators,  member_scores)\n",
    "plt.loglog(fpr, tpr)\n",
    "plt.xlim(10**-5,  1)\n",
    "plt.ylim(10**-5,  1)\n",
    "plt.xlabel(\"False Positive Rate\")\n",
    "plt.ylabel(\"True Positive Rate\")"
   ]
  }
 ],
 "metadata": {
  "kernelspec": {
   "display_name": "msc",
   "language": "python",
   "name": "python3"
  },
  "language_info": {
   "codemirror_mode": {
    "name": "ipython",
    "version": 3
   },
   "file_extension": ".py",
   "mimetype": "text/x-python",
   "name": "python",
   "nbconvert_exporter": "python",
   "pygments_lexer": "ipython3",
   "version": "3.10.11"
  }
 },
 "nbformat": 4,
 "nbformat_minor": 2
}
