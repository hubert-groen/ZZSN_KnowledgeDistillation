{
 "cells": [
  {
   "cell_type": "code",
   "execution_count": 1,
   "metadata": {},
   "outputs": [],
   "source": [
    "import numpy as np\n",
    "from torch.nn import CrossEntropyLoss\n",
    "import torch\n",
    "import matplotlib.pyplot as plt\n",
    "import scipy\n",
    "import tqdm"
   ]
  },
  {
   "cell_type": "code",
   "execution_count": 2,
   "metadata": {},
   "outputs": [],
   "source": [
    "# Load logits and train indices\n",
    "N_MODELS = 100\n",
    "N_CLASSES = 10\n",
    "teacher_logits_zip = np.load(f\"./saves/logits/logits_resnet_0.npz\")\n",
    "teacher_logits = np.concatenate([teacher_logits_zip['logits_arr_train'], teacher_logits_zip['logits_arr_test']])\n",
    "targets = np.concatenate([teacher_logits_zip['targets_arr_train'], teacher_logits_zip['targets_arr_test']])\n",
    "teacher_train_indices = np.load(\"./indices/train_idx_0.npy\")\n",
    "\n",
    "\n",
    "student_logits = np.empty((N_MODELS, 60000, 10), dtype=np.float32)\n",
    "student_train_indices = np.empty((N_MODELS, 30000))\n",
    "for idx in range(1, N_MODELS+1):\n",
    "    x = np.load(f\"./saves/logits/logits_resnet_{idx}.npz\")\n",
    "    x = np.concatenate([x['logits_arr_train'], x['logits_arr_test']])\n",
    "    student_logits[idx-1,:,:] = x\n",
    "    student_train_indices[idx-1,:] = np.load(f\"./indices/train_idx_{idx}.npy\")"
   ]
  },
  {
   "cell_type": "code",
   "execution_count": 3,
   "metadata": {},
   "outputs": [],
   "source": [
    "# Convert all logits to confidence scores\n",
    "loss = CrossEntropyLoss(reduction='none')\n",
    "teacher_cfs = np.empty((60000, 10))\n",
    "for class_nr in range(N_CLASSES):\n",
    "    teacher_cfs[:, class_nr] = loss(torch.Tensor(teacher_logits), torch.Tensor(60000*[class_nr]).type(torch.LongTensor)).numpy()\n",
    "teacher_cfs = np.exp(-1 * teacher_cfs)\n",
    "\n",
    "\n",
    "student_cfs = np.empty((N_MODELS, 60000, 10))\n",
    "for k in range(1, N_MODELS+1):\n",
    "    for class_nr in range(N_CLASSES):  \n",
    "        student_cfs[k-1, :, class_nr] = loss(torch.Tensor(student_logits[k-1,:]), torch.Tensor(60000*[class_nr]).type(torch.LongTensor)).numpy()\n",
    "student_cfs = np.exp(-1 * student_cfs)"
   ]
  },
  {
   "cell_type": "code",
   "execution_count": 4,
   "metadata": {},
   "outputs": [],
   "source": [
    "# Numerically stable way to apply logit scaling to confidence scores\n",
    "\n",
    "mask = np.ones((60000, N_CLASSES), dtype=bool)\n",
    "mask[range(60000), list(targets.astype(np.int64))] = False\n",
    "teacher_cfs_wrong = teacher_cfs[mask].reshape(60000, N_CLASSES-1)\n",
    "teacher_logits = np.log(np.choose(list(targets.astype(np.int64)), teacher_cfs.T)+1e-45) - np.log(teacher_cfs_wrong.sum(1)+1e-45)\n",
    "\n",
    "student_logits = np.empty((N_MODELS, 60000))\n",
    "for k in range(1, N_MODELS+1):\n",
    "    mask = np.ones((60000, N_CLASSES), dtype=bool)\n",
    "    mask[range(60000), list(targets.astype(np.int64))] = False\n",
    "    student_cfs_wrong = student_cfs[k-1, :, :][mask].reshape(60000, N_CLASSES-1)\n",
    "    student_logits[k-1, :] = np.log(np.choose(list(targets.astype(np.int64)), student_cfs[k-1, :, :].T)+1e-45) - np.log(student_cfs_wrong.sum(1)+1e-45)"
   ]
  },
  {
   "cell_type": "code",
   "execution_count": 5,
   "metadata": {},
   "outputs": [
    {
     "data": {
      "text/plain": [
       "(100, 60000)"
      ]
     },
     "execution_count": 5,
     "metadata": {},
     "output_type": "execute_result"
    }
   ],
   "source": [
    "student_logits.shape"
   ]
  },
  {
   "cell_type": "code",
   "execution_count": 6,
   "metadata": {},
   "outputs": [
    {
     "name": "stderr",
     "output_type": "stream",
     "text": [
      "100%|██████████| 60000/60000 [15:55<00:00, 62.79it/s]"
     ]
    },
    {
     "name": "stdout",
     "output_type": "stream",
     "text": [
      "Skipped: 0/60000\n"
     ]
    },
    {
     "name": "stderr",
     "output_type": "stream",
     "text": [
      "\n"
     ]
    }
   ],
   "source": [
    "member_indicators = []\n",
    "member_scores = []\n",
    "skipped = 0\n",
    "\n",
    "for train_idx in tqdm.tqdm(range(0, 60000)):\n",
    "    idx_in_train_dataset = np.any(student_train_indices == train_idx, axis=1)\n",
    "\n",
    "    # get IN models logits\n",
    "    in_logits = student_logits[idx_in_train_dataset][:, train_idx]\n",
    "\n",
    "    # get OUT models logits\n",
    "    out_logits = student_logits[~idx_in_train_dataset][:, train_idx]\n",
    "\n",
    "    # get teacher model logit\n",
    "    teacher_logit = teacher_logits[train_idx]\n",
    "\n",
    "    if len(in_logits)/N_MODELS > 0.8 or len(out_logits)/N_MODELS > 0.7:\n",
    "        #print(f\"Unbalanced data for idx {train_idx}. Skipping ...\")\n",
    "        skipped += 1\n",
    "\n",
    "\n",
    "    # Calibrate normal dist for IN\n",
    "    s_in = np.std(in_logits)\n",
    "    m_in = np.mean(in_logits)\n",
    "\n",
    "    # Calibrate normal dist for OUT\n",
    "    s_out = np.std(out_logits)\n",
    "    m_out = np.mean(out_logits)\n",
    "\n",
    "    # Set is_member indicator for sample\n",
    "    if train_idx in teacher_train_indices:\n",
    "        member_indicators.append(1)\n",
    "    else:\n",
    "        member_indicators.append(0)\n",
    "\n",
    "    # Calculate is_member score for sample\n",
    "    score = scipy.stats.norm.pdf(teacher_logit, m_in, s_in) / scipy.stats.norm.pdf(teacher_logit, m_out, s_out)\n",
    "    member_scores.append(score)\n",
    "\n",
    "print(f\"Skipped: {skipped}/60000\")"
   ]
  },
  {
   "cell_type": "code",
   "execution_count": 7,
   "metadata": {},
   "outputs": [
    {
     "data": {
      "text/plain": [
       "Text(0, 0.5, 'True Positive Rate')"
      ]
     },
     "execution_count": 7,
     "metadata": {},
     "output_type": "execute_result"
    },
    {
     "data": {
      "image/png": "[encoded data removed]",
      "text/plain": [
       "<Figure size 640x480 with 1 Axes>"
      ]
     },
     "metadata": {},
     "output_type": "display_data"
    }
   ],
   "source": [
    "from sklearn import metrics\n",
    "plt.style.use(\"ggplot\")\n",
    "\n",
    "fpr, tpr, _ = metrics.roc_curve(member_indicators,  member_scores)\n",
    "auc = metrics.roc_auc_score(member_indicators,  member_scores)\n",
    "plt.loglog(fpr, tpr)\n",
    "plt.xlim(10**-5,  1)\n",
    "plt.ylim(10**-5,  1)\n",
    "plt.xlabel(\"False Positive Rate\")\n",
    "plt.ylabel(\"True Positive Rate\")"
   ]
  }
 ],
 "metadata": {
  "kernelspec": {
   "display_name": "msc",
   "language": "python",
   "name": "python3"
  },
  "language_info": {
   "codemirror_mode": {
    "name": "ipython",
    "version": 3
   },
   "file_extension": ".py",
   "mimetype": "text/x-python",
   "name": "python",
   "nbconvert_exporter": "python",
   "pygments_lexer": "ipython3",
   "version": "3.10.11"
  }
 },
 "nbformat": 4,
 "nbformat_minor": 2
}
